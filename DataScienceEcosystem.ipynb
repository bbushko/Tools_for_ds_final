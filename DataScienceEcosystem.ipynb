{
 "cells": [
  {
   "cell_type": "markdown",
   "id": "8a6a86b9-938e-4dd3-84e5-b8b8804cfc3a",
   "metadata": {},
   "source": [
    "# Data Science Tools and Ecosystem"
   ]
  },
  {
   "attachments": {},
   "cell_type": "markdown",
   "id": "4e59ba03-8a39-4e3e-ac26-2d52f35848b0",
   "metadata": {},
   "source": [
    "__Objectives:__\n",
    "\n",
    "1. List popular languages for Data Science.\n",
    "2. Some of the commonly used libraries used by Data Scientists \n",
    "3. A few examples of evaluating arithmetic expressions in Python.\n",
    "\n"
   ]
  },
  {
   "cell_type": "markdown",
   "id": "a1ef2929-638b-4f58-bec1-146772feac78",
   "metadata": {},
   "source": [
    "## Author\n",
    "\n",
    "Bohdan"
   ]
  },
  {
   "cell_type": "markdown",
   "id": "87fac181-6d38-4f28-a435-e120240b15ce",
   "metadata": {},
   "source": [
    "In this notebook, Data Science Tools and Ecosystem are summarized."
   ]
  },
  {
   "cell_type": "markdown",
   "id": "f0533e48-a5ed-413b-8812-b89f9ab8b7c7",
   "metadata": {},
   "source": [
    "Some of the popular languages that Data Scientists use are:\n",
    "\n",
    "1. Python\n",
    "2. R\n",
    "3. C++\n",
    "4. Julia\n",
    "5. Scala\n",
    "6. SQL"
   ]
  },
  {
   "cell_type": "markdown",
   "id": "423d438d-7035-403b-9512-ed1c9fc1e203",
   "metadata": {},
   "source": [
    "Some of the commonly used libraries used by Data Scientists include:\n",
    "\n",
    "1. Numpy\n",
    "2. Matplotlib\n",
    "3. Scipy\n",
    "4. ggplot\n",
    "5. caret\n",
    "6. Pandas"
   ]
  },
  {
   "cell_type": "markdown",
   "id": "c1ccbc66-a427-4e18-a63a-5f78fb6fc121",
   "metadata": {},
   "source": [
    "| Data Science Tools |\n",
    "|--------------------|\n",
    "| RStudio |\n",
    "| Jupyter Notebook |\n",
    "| Jupyter Lab |\n",
    "| Spyder |"
   ]
  },
  {
   "cell_type": "markdown",
   "id": "23cde990-2534-4c0a-b50a-c16329ef45a0",
   "metadata": {},
   "source": [
    "### Below are a few examples of evaluating arithmetic expressions in Python."
   ]
  },
  {
   "cell_type": "code",
   "execution_count": 4,
   "id": "d5aad6bf-753b-4c3b-bc94-782b11f67461",
   "metadata": {},
   "outputs": [
    {
     "data": {
      "text/plain": [
       "17"
      ]
     },
     "execution_count": 4,
     "metadata": {},
     "output_type": "execute_result"
    }
   ],
   "source": [
    "(3*4)+5  # This a simple arithmetic expression to mutiply then add integers"
   ]
  },
  {
   "cell_type": "code",
   "execution_count": 5,
   "id": "df7ce170-fcea-41e7-bfa9-41cbdf2e11cc",
   "metadata": {},
   "outputs": [
    {
     "data": {
      "text/plain": [
       "3.3333333333333335"
      ]
     },
     "execution_count": 5,
     "metadata": {},
     "output_type": "execute_result"
    }
   ],
   "source": [
    "#  This will convert 200 minutes to hours by diving by 60\n",
    "\n",
    "200 / 60"
   ]
  },
  {
   "cell_type": "code",
   "execution_count": null,
   "id": "f29d2510-d741-4e1e-b96b-d03018777224",
   "metadata": {},
   "outputs": [],
   "source": []
  }
 ],
 "metadata": {
  "kernelspec": {
   "display_name": "Python 3 (ipykernel)",
   "language": "python",
   "name": "python3"
  },
  "language_info": {
   "codemirror_mode": {
    "name": "ipython",
    "version": 3
   },
   "file_extension": ".py",
   "mimetype": "text/x-python",
   "name": "python",
   "nbconvert_exporter": "python",
   "pygments_lexer": "ipython3",
   "version": "3.10.6"
  }
 },
 "nbformat": 4,
 "nbformat_minor": 5
}
